{
 "cells": [
  {
   "cell_type": "code",
   "execution_count": 336,
   "metadata": {},
   "outputs": [],
   "source": [
    "import numpy as np"
   ]
  },
  {
   "cell_type": "code",
   "execution_count": 337,
   "metadata": {},
   "outputs": [],
   "source": [
    "gt=np.load(\"data.npy\")    # 데이터를 받는다.\n",
    "GT = gt                   # 받은 원본 데이터를 GT에 저장한다.\n",
    "gt = list(gt) * 5         # gt를 5개 이어붙여서 길이를 5배로 늘린다.\n",
    "\n",
    "def gen_data(func): \n",
    "    num_data= 50000       # 현재 함수에서 무작위로 추출할 횟수 > 표본의 수\n",
    "    x= np.linspace(-99,100,200)\n",
    "    \n",
    "    \"\"\"\n",
    "    func 부분의 argment는 수정해도 무방합니다.\n",
    "    \"\"\"\n",
    "    p= func(x)\n",
    "    error= 1-np.sum(p)   \n",
    "    \n",
    "    if error<0.1 and error >= 0:    # 전체 확률이 1이 넘는지 검사\n",
    "        p+=error/len(p)\n",
    "    else:\n",
    "        print(\"error:\",error,\" p의 총합이 1이 안됩니다.\")\n",
    "        return -100\n",
    "    \n",
    "    s= np.random.choice(x,num_data,p=p,replace=True)    # p에서 num_data(50000번) 만큼 무작위로 추출 \n",
    "    return s\n",
    "\n",
    "def test(func):\n",
    "    error=0\n",
    "    sample_num =100\n",
    "    for i in range(sample_num):\n",
    "        error += np.mean(np.abs(np.sort(gt)-np.sort(gen_data(func)))) # 원본 데이터와 무작위로 추출한 데이터를 비교\n",
    "    \n",
    "    print(\"error:\",error/sample_num)\n",
    "    return error/sample_num\n"
   ]
  },
  {
   "cell_type": "code",
   "execution_count": 338,
   "metadata": {},
   "outputs": [],
   "source": [
    "def func(x):\n",
    "    global gt, GT\n",
    "    d = {}    #  -99부터 200 까지 수의 빈도를 저장할 딕셔너리\n",
    "    p = {}    #  빈도 수를 이용해서 만든 확률 딕셔너리\n",
    "    \n",
    "    for i in range(-99,101):   # -99부터 200 까지의 딕셔너리 초기화\n",
    "        d[i] = 0\n",
    "        \n",
    "    for i in GT:               # 빈도수를 구하고\n",
    "        d[i] = d[i]+1\n",
    "      \n",
    "    for i in range(-99,101):   # 빈도수로 확률을 구하고\n",
    "        p[i] = d[i]/10000\n",
    "    \n",
    "    P = list(p.values())        # 딕셔너리의 key는 안쓰고 확률(value)로만 리스트를 만들어서 반환\n",
    "    \n",
    "    return P\n",
    "    "
   ]
  },
  {
   "cell_type": "code",
   "execution_count": 339,
   "metadata": {
    "scrolled": true
   },
   "outputs": [],
   "source": [
    "s1=gen_data(func)"
   ]
  },
  {
   "cell_type": "code",
   "execution_count": 340,
   "metadata": {},
   "outputs": [
    {
     "data": {
      "image/png": "[encoded data removed]",
      "text/plain": [
       "<Figure size 432x288 with 1 Axes>"
      ]
     },
     "metadata": {
      "needs_background": "light"
     },
     "output_type": "display_data"
    }
   ],
   "source": [
    "import matplotlib.pyplot as plt\n",
    "plt.hist(s1,100,density=True)\n",
    "plt.show()"
   ]
  },
  {
   "cell_type": "code",
   "execution_count": 341,
   "metadata": {
    "scrolled": true
   },
   "outputs": [
    {
     "name": "stdout",
     "output_type": "stream",
     "text": [
      "error: 0.11511519999999999\n"
     ]
    },
    {
     "data": {
      "text/plain": [
       "0.11511519999999999"
      ]
     },
     "execution_count": 341,
     "metadata": {},
     "output_type": "execute_result"
    }
   ],
   "source": [
    "test(func)"
   ]
  },
  {
   "cell_type": "code",
   "execution_count": 342,
   "metadata": {},
   "outputs": [
    {
     "data": {
      "text/plain": [
       "'\\n2017120097 이지우\\n\\n'"
      ]
     },
     "execution_count": 342,
     "metadata": {},
     "output_type": "execute_result"
    }
   ],
   "source": [
    "'''\n",
    "2017120097 이지우\n",
    "\n",
    "'''"
   ]
  },
  {
   "cell_type": "code",
   "execution_count": null,
   "metadata": {},
   "outputs": [],
   "source": []
  }
 ],
 "metadata": {
  "kernelspec": {
   "display_name": "Python 3",
   "language": "python",
   "name": "python3"
  },
  "language_info": {
   "codemirror_mode": {
    "name": "ipython",
    "version": 3
   },
   "file_extension": ".py",
   "mimetype": "text/x-python",
   "name": "python",
   "nbconvert_exporter": "python",
   "pygments_lexer": "ipython3",
   "version": "3.8.5"
  }
 },
 "nbformat": 4,
 "nbformat_minor": 4
}
