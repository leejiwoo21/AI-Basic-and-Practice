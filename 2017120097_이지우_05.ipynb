{
 "cells": [
  {
   "cell_type": "markdown",
   "metadata": {},
   "source": [
    "# 1.1 다목적 미분함수 : 배점 80점"
   ]
  },
  {
   "cell_type": "code",
   "execution_count": 293,
   "metadata": {},
   "outputs": [],
   "source": [
    "import numpy as np\n",
    "import matplotlib.pyplot as plt\n",
    "from matplotlib.widgets import Slider, Button\n",
    "\n",
    "DELTA_X = 1e-5\n",
    "\n",
    "def derivative(f,x):\n",
    "    return  round((f(x+DELTA_X)-f(x))/DELTA_X,2)\n",
    "\n",
    "def show_derivate(f,x,interval):\n",
    "    x_space= np.linspace(*interval,100000)\n",
    "    y_space=f(x_space)\n",
    "    plt.plot(x_space,y_space,color='blue')\n",
    "    #...\n",
    "    k = abs(interval[1] - interval[0]) # 주어진 값의 범위\n",
    "    m = derivative(f,x)# 미분값 ( 기울기 )\n",
    "    \n",
    "    x_line = np.linspace(x-k/5,x+k/5,100000) # 직선 그래프의 x범위\n",
    "    y_line = m*(np.linspace(x-k/5,x+k/5,100000)-x)+ f(x) # 직선 그래프의 y범위\n",
    "    plt.plot(x_line,y_line,color= 'black') #직선그래프 표시\n",
    "    \n",
    "    plt.scatter(x,f(x),color = 'red') # 접점 표시\n",
    "    plt.text(x+0.5+k//10,f(x),'A({},{})'.format(x,round(f(x),2),fontsize= 10)) # 점의 좌표 표시\n",
    "    plt.text(x+0.5+k//10,f(x)-1.5,'f({})={}'.format(x,m)) # 미분값 표시\n",
    "    plt.show()\n",
    "    "
   ]
  },
  {
   "cell_type": "code",
   "execution_count": 294,
   "metadata": {},
   "outputs": [],
   "source": [
    "def func(x):\n",
    "    return x*np.sin(x**2)-x"
   ]
  },
  {
   "cell_type": "code",
   "execution_count": 295,
   "metadata": {},
   "outputs": [
    {
     "data": {
      "image/png": "[encoded data removed]",
      "text/plain": [
       "<Figure size 432x288 with 1 Axes>"
      ]
     },
     "metadata": {
      "needs_background": "light"
     },
     "output_type": "display_data"
    }
   ],
   "source": [
    "plt.clf()\n",
    "show_derivate(func, 1, (-2,3))"
   ]
  },
  {
   "cell_type": "markdown",
   "metadata": {},
   "source": [
    "# 1.2 Differentiation Rules : 배점 20점"
   ]
  },
  {
   "cell_type": "code",
   "execution_count": 388,
   "metadata": {},
   "outputs": [],
   "source": [
    "## 1.1에서 구현했을 함수\n",
    "# def derivative(...):\n",
    "#     return result\n",
    "\n",
    "def derivative(f,x):\n",
    "    return  round((f(x+DELTA_X)-f(x))/DELTA_X,2)"
   ]
  },
  {
   "cell_type": "code",
   "execution_count": 389,
   "metadata": {},
   "outputs": [],
   "source": [
    "equal = lambda a,b : abs(a-b) < 1e-6"
   ]
  },
  {
   "cell_type": "code",
   "execution_count": 390,
   "metadata": {},
   "outputs": [
    {
     "data": {
      "text/plain": [
       "True"
      ]
     },
     "execution_count": 390,
     "metadata": {},
     "output_type": "execute_result"
    }
   ],
   "source": [
    "#Constant factor rule\n",
    "f = lambda x : np.sin(x)\n",
    "a = 3\n",
    "af = lambda x : a*f(x)\n",
    "\n",
    "x = 10\n",
    "\n",
    "leftside = derivative(af, x)\n",
    "rightside = a*derivative(f, x)\n",
    "\n",
    "equal(leftside, rightside)"
   ]
  },
  {
   "cell_type": "code",
   "execution_count": 391,
   "metadata": {},
   "outputs": [
    {
     "data": {
      "text/plain": [
       "True"
      ]
     },
     "execution_count": 391,
     "metadata": {},
     "output_type": "execute_result"
    }
   ],
   "source": [
    "#25페이지의 product rule 을 구현\n",
    "\n",
    "f = lambda x : x+2\n",
    "g = lambda x : x+3\n",
    "\n",
    "fg = lambda x : (x+2)*(x+3)\n",
    "\n",
    "\n",
    "leftside = derivative(fg,x)\n",
    "\n",
    "rightside = derivative(f,x)*g(x) + derivative(g,x)*f(x)\n",
    "\n",
    "equal(leftside, rightside)\n",
    "\n"
   ]
  },
  {
   "cell_type": "code",
   "execution_count": 393,
   "metadata": {},
   "outputs": [
    {
     "name": "stdout",
     "output_type": "stream",
     "text": [
      "True\n",
      "True\n"
     ]
    }
   ],
   "source": [
    "#26페이지의 power rule을 구현\n",
    "#derivative\n",
    "#power rule 1 번째\n",
    "r = 5\n",
    "\n",
    "X = lambda x : x**r\n",
    "X_ = lambda x : r*(x**(r-1))\n",
    "\n",
    "leftside = derivative(X,2)\n",
    "rightside = X_(2)\n",
    "\n",
    "print(equal(leftside, rightside))\n",
    "\n",
    "#power rule 2 번째\n",
    "n = 5\n",
    "\n",
    "f = lambda x : x\n",
    "f_n_1 = lambda x : pow(x,n-1)\n",
    "f_n = lambda x : pow(x,n)\n",
    "\n",
    "\n",
    "leftside = derivative(f_n,2)\n",
    "rightside = n*f_n_1(2)*derivative(f,2)\n",
    "\n",
    "print(equal(leftside, rightside))\n",
    "\n"
   ]
  },
  {
   "cell_type": "markdown",
   "metadata": {},
   "source": [
    "## 고찰"
   ]
  },
  {
   "cell_type": "code",
   "execution_count": null,
   "metadata": {},
   "outputs": [],
   "source": [
    "'''\n",
    "2017120097 이지우\n",
    "\n",
    "1-1 번과 1-2번에서 구현해야 했던 공식이나 그래프는 난이도가 높지는 않았지만 직접 구현해본것은 처음이었습니다.\n",
    "특히 1-1번을 하면서 앞으로 인공지능을 배울 때 변화율을 이용하는 경우가 많다고 들은 것이 생각나서 나중에도 쓰게 될 것 같았습니다.\n",
    "또 제가 그래프를 완성하면서 파이썬의 기능들도 찾아보고 알아갈 수 있었고, 1-2를 하면서는 수식을 프로그래밍 언어로 다루어 본적이 없었는데\n",
    "하려고 하니까 오류도 많이 났었고 그러면서 오류없이 코드를 짜는 방법을 배웠습니다.\n",
    "\n",
    "'''"
   ]
  }
 ],
 "metadata": {
  "kernelspec": {
   "display_name": "Python 3",
   "language": "python",
   "name": "python3"
  },
  "language_info": {
   "codemirror_mode": {
    "name": "ipython",
    "version": 3
   },
   "file_extension": ".py",
   "mimetype": "text/x-python",
   "name": "python",
   "nbconvert_exporter": "python",
   "pygments_lexer": "ipython3",
   "version": "3.8.5"
  }
 },
 "nbformat": 4,
 "nbformat_minor": 4
}
