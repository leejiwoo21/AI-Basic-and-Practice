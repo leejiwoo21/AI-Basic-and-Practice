{
 "cells": [
  {
   "cell_type": "markdown",
   "metadata": {},
   "source": [
    "# 1 데이터 베이스와 함수 기본"
   ]
  },
  {
   "attachments": {
    "image.png": {
     "image/png": "[encoded data removed]"
    }
   },
   "cell_type": "markdown",
   "metadata": {},
   "source": [
    "![image.png](attachment:image.png)"
   ]
  },
  {
   "cell_type": "markdown",
   "metadata": {},
   "source": [
    "#### 1.1 이름, 성별, 나이 집합에 대해 각각 tabular form(원소나열법)으로 표현하시오(예, 성별={남,여} ) "
   ]
  },
  {
   "cell_type": "markdown",
   "metadata": {},
   "source": [
    "답: 이름 = {철수, 영희, 가영, 나영, 단군}\n",
    "    성별 = {남, 여}\n",
    "    나이 = {19, 20, 29, 39, 5000}"
   ]
  },
  {
   "cell_type": "markdown",
   "metadata": {},
   "source": [
    "#### 1.2 이름ℜ성별 을 ordered pair(순서쌍)로 나타내시오. 그리고 이때 어떤 집합이 domain(정의역)이고 image(상)인지 적으시오."
   ]
  },
  {
   "cell_type": "markdown",
   "metadata": {},
   "source": [
    "1. ordered pair: {(철수,남),(영희,여),(가영,여),(나영,여),(단군,남),(영희,남)}\n",
    "2. domain: {철수,영희,가영,나영,단군}\n",
    "3. image: {남,여}"
   ]
  },
  {
   "cell_type": "markdown",
   "metadata": {},
   "source": [
    "#### 1.3 이름ℜ성별은 function(함수)인지 아닌지 서술하시오. 함수가 된다면 함수가 되는 근거를, 함수가 되지 않는다면 함수가 되지 않는 이유를 서술하시오. "
   ]
  },
  {
   "cell_type": "markdown",
   "metadata": {},
   "source": [
    "답: 함수가 아닙니다. 그 이유는 정의역의 원소인 영희에게 2개의 상(남, 여)이 매치되기 때문입니다."
   ]
  },
  {
   "cell_type": "markdown",
   "metadata": {},
   "source": [
    "# 2 패턴찾기"
   ]
  },
  {
   "cell_type": "code",
   "execution_count": 3,
   "metadata": {},
   "outputs": [],
   "source": [
    "import numpy as np\n",
    "\n",
    "def mse(func1):\n",
    "    with open(\"data.txt\",\"r\") as f:\n",
    "        data=f.readlines()\n",
    "        error=0\n",
    "        \n",
    "        for d in data:\n",
    "            arg1= int(d.split(\"(\")[1].split('[')[1].split(',')[0])\n",
    "            arg2= int(d.split(\"(\")[1].split('[')[1].split(',')[1].split(']')[0])\n",
    "            label= int(d.split(',')[2].split(')')[0])\n",
    "            error += np.abs(func1([arg1, arg2]) - label)\n",
    "        \n",
    "        error= error/len(data)\n",
    "        print(\"error는 \", error)\n"
   ]
  },
  {
   "cell_type": "code",
   "execution_count": 4,
   "metadata": {},
   "outputs": [],
   "source": [
    "def func1(arg):\n",
    "    return arg[0] + arg[1]"
   ]
  },
  {
   "cell_type": "code",
   "execution_count": 5,
   "metadata": {},
   "outputs": [
    {
     "name": "stdout",
     "output_type": "stream",
     "text": [
      "error는  32.011\n"
     ]
    }
   ],
   "source": [
    "mse(func1)"
   ]
  },
  {
   "cell_type": "markdown",
   "metadata": {},
   "source": [
    "## 여기서부터 함수 기입하고 테스트해보세요."
   ]
  },
  {
   "cell_type": "code",
   "execution_count": 25,
   "metadata": {},
   "outputs": [],
   "source": [
    "def func1(arg):\n",
    "    return  (arg[0]//10 + arg[0]%10)*(arg[1]//10 + arg[1]%10)"
   ]
  },
  {
   "cell_type": "code",
   "execution_count": 26,
   "metadata": {},
   "outputs": [
    {
     "name": "stdout",
     "output_type": "stream",
     "text": [
      "error는  0.0\n"
     ]
    }
   ],
   "source": [
    "mse(func1)"
   ]
  },
  {
   "cell_type": "code",
   "execution_count": null,
   "metadata": {},
   "outputs": [],
   "source": []
  }
 ],
 "metadata": {
  "kernelspec": {
   "display_name": "Python 3",
   "language": "python",
   "name": "python3"
  },
  "language_info": {
   "codemirror_mode": {
    "name": "ipython",
    "version": 3
   },
   "file_extension": ".py",
   "mimetype": "text/x-python",
   "name": "python",
   "nbconvert_exporter": "python",
   "pygments_lexer": "ipython3",
   "version": "3.8.5"
  }
 },
 "nbformat": 4,
 "nbformat_minor": 4
}
