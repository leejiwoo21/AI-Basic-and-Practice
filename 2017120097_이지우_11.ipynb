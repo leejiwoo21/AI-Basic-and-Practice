{
 "cells": [
  {
   "cell_type": "markdown",
   "metadata": {},
   "source": [
    "# 1번 문제"
   ]
  },
  {
   "cell_type": "code",
   "execution_count": 1,
   "metadata": {},
   "outputs": [],
   "source": [
    "import numpy as np\n",
    "import matplotlib.pyplot as plt"
   ]
  },
  {
   "cell_type": "markdown",
   "metadata": {},
   "source": [
    "### 1-1. 어떤 질병에 걸린 환자가 다시 회복될 확률은 경험적으로 0.4이라고 한다. <br> 같은 상황에 있는 환자가 10명이 있을 때, ‘적어도 8명이 회복될 확률‘을 구하시오"
   ]
  },
  {
   "cell_type": "markdown",
   "metadata": {},
   "source": [
    "회복된 환자가 8명 이상이니까, 회복된 환자 수가 8명, 9명, 10명일 때의 확률을 모두 구해서 더해준다.<br>\n",
    "8명일 확률은 10명 중 2명을 순서 없이 고르고 8명이 회복되고, 2명이 회복이 안되는 확률이므로 10C2도 곱합니다.<br>\n",
    "8명일 확률: $ 90* (0.4)^8(0.6)^2 = 0.021233664 $<br>\n",
    "<br>\n",
    "9명일 확률은 10명 중 1명을 순서 없이 고르고 9명이 회복되고, 1명이 회복이 안되는 확률이므로 10C1도 곱합니다.<br>\n",
    "9명일 확률: $ 10* (0.4)^9(0.6)^1 = 0.001572864 $<br>\n",
    "<br>\n",
    "10명일 확률은 10명 모두가 확률 0.4에 해당하므로 <br>\n",
    "10명일 확률: $ (0.4)^{10} = 0.0001048576 $<br>\n",
    "<br>\n",
    "이렇게 각각의 확률을 구했고 모두 더하면 0.0229113856 약 0.023 >> 2.3% 입니다.\n",
    "\n"
   ]
  },
  {
   "cell_type": "markdown",
   "metadata": {},
   "source": [
    "### 1-2. 백두산에선 평균적으로 7일에 한번씩 무지개가 뜬다고 한다.  <br> 백두산에 3일 있다고 했을 때, 무지개를 두번 볼 확률은 어떻게 되는가?"
   ]
  },
  {
   "cell_type": "code",
   "execution_count": 2,
   "metadata": {},
   "outputs": [],
   "source": [
    "'''\n",
    "3일 중에 2번 봐야 하니까 조합을 사용했습니다 > 3C2 = 3 이고, 어느날 무지개를 볼 확률은 1/7, 못 볼 확률 = 6/7\n",
    "\n",
    "# 따라서 3 * (1/7)^2 * (6/7)^1 = 0.0525 >> 약 5.25% 이다.\n",
    "\n",
    "여기서 1/7의 제곱은 무지개를 두 번 본 것을 의미하고, 6/7 은 한 번 못 본 것을 의미한다.\n",
    "'''\n"
   ]
  },
  {
   "cell_type": "markdown",
   "metadata": {},
   "source": [
    "### 1-3. 평균이 3이고 분산이 4인 정규분포를 그래프로 그리시오"
   ]
  },
  {
   "cell_type": "code",
   "execution_count": 30,
   "metadata": {},
   "outputs": [
    {
     "data": {
      "image/png": "[encoded data removed]",
      "text/plain": [
       "<Figure size 600x300 with 1 Axes>"
      ]
     },
     "metadata": {},
     "output_type": "display_data"
    }
   ],
   "source": [
    "import numpy as np\n",
    "import matplotlib.pyplot as plt\n",
    "\n",
    "np.random.seed(0)\n",
    "\n",
    "mu = 3 # 평균\n",
    "sigma = 2 # 표준편차 >> 표준편차의 제곱 = 분산\n",
    "\n",
    "x = np.linspace(-4, 10, 100)\n",
    "y = (1 / np.sqrt(2 * np.pi * sigma**2)) * np.exp(-(x-mu)**2 / (2 * sigma**2))\n",
    "y_cum = 0.5 * (1 + erf((x - mu)/(np.sqrt(2 * sigma**2))))\n",
    "\n",
    "plt.plot(x, y)\n",
    "plt.show()"
   ]
  },
  {
   "cell_type": "markdown",
   "metadata": {},
   "source": [
    "### 1-4. 은행 이자 수익률은 평균이 3만원이고 분산이 100만원인 정규분포를 따른다고 한다. <br> 13만원 이상의 수익을 얻을 확률은 얼마나 되는가?([표준정규분포표](https://ko.wikipedia.org/wiki/%ED%91%9C%EC%A4%80%EC%A0%95%EA%B7%9C%EB%B6%84%ED%8F%AC%ED%91%9C)를 이용하시오)"
   ]
  },
  {
   "cell_type": "code",
   "execution_count": null,
   "metadata": {},
   "outputs": [],
   "source": [
    "'''\n",
    "\n",
    "평균 = 3\n",
    "분산 = 100\n",
    "표준편차(sigma) = 10\n",
    "X = 13 대입 예정\n",
    "\n",
    "Z = (X - m)/ sigma = (13 - 3)/ 10 = 1 이고, 표에 대입하면\n",
    "P(X >= 13) = 1- PI(Z) = 1 - 0.84134 = 0.15866 >> 약 1.5866%이다.\n",
    "\n",
    "'''"
   ]
  },
  {
   "cell_type": "markdown",
   "metadata": {},
   "source": [
    "# 2번 문제 "
   ]
  },
  {
   "cell_type": "code",
   "execution_count": 32,
   "metadata": {},
   "outputs": [],
   "source": [
    "from math import factorial, exp\n",
    "from scipy.stats import geom\n",
    "\n",
    "def pois_dist(n, lamb):\n",
    "    return (lamb ** n) * exp(-lamb) / factorial(n)"
   ]
  },
  {
   "cell_type": "markdown",
   "metadata": {},
   "source": [
    "## 2.1 푸아송분포"
   ]
  },
  {
   "cell_type": "code",
   "execution_count": 33,
   "metadata": {},
   "outputs": [],
   "source": [
    "pd1 = np.array([pois_dist(n, 10) for n in range(40)]) \n",
    "# 푸아송분포의 사건이 40개가 있으므로 이것들을 n과 곱한 뒤 모두 더해서 평균을 구한다."
   ]
  },
  {
   "cell_type": "code",
   "execution_count": 36,
   "metadata": {},
   "outputs": [
    {
     "name": "stdout",
     "output_type": "stream",
     "text": [
      "9.9999999999704\n"
     ]
    }
   ],
   "source": [
    "# 평균\n",
    "# 푸아송분포를 따르는 시행이 40개가 있으므로 이것들을 n과 곱한 뒤 모두 더해서 평균을 구한다.\n",
    "m = 0\n",
    "for i in range(40):\n",
    "    m += i* pd1[i]\n",
    "    \n",
    "print(m)"
   ]
  },
  {
   "cell_type": "code",
   "execution_count": 35,
   "metadata": {},
   "outputs": [
    {
     "data": {
      "text/plain": [
       "0.1251100357211333"
      ]
     },
     "execution_count": 35,
     "metadata": {},
     "output_type": "execute_result"
    }
   ],
   "source": [
    "# 실제 푸아송비의 평균인 10과 위에서 구한 평균인 m = 9.9999999999704 은 유사하다."
   ]
  },
  {
   "cell_type": "code",
   "execution_count": 37,
   "metadata": {},
   "outputs": [
    {
     "name": "stdout",
     "output_type": "stream",
     "text": [
      "9.999999999324944\n"
     ]
    }
   ],
   "source": [
    "# 분산\n",
    "# 위에서 구한 평균값으로 분산을 구한다.\n",
    "s = 0\n",
    "for i in range(40):\n",
    "    s += (i-m)**2 * pd1[i]\n",
    "\n",
    "print(s)"
   ]
  },
  {
   "cell_type": "code",
   "execution_count": null,
   "metadata": {},
   "outputs": [],
   "source": [
    "# 실제 푸아송비의 분산인 10과 위에서 구한 분산인 s = 9.999999999324944로 유사하다."
   ]
  },
  {
   "cell_type": "markdown",
   "metadata": {},
   "source": [
    "## 2.2 기하분포"
   ]
  },
  {
   "cell_type": "code",
   "execution_count": 56,
   "metadata": {},
   "outputs": [],
   "source": [
    "rv = geom(0.05) #p=0.05, shift = 0\n",
    "x = np.arange(1, 90+1) #총 시행횟수 1~90까지\n",
    "pmf_geom = rv.pmf(x)"
   ]
  },
  {
   "cell_type": "code",
   "execution_count": 57,
   "metadata": {},
   "outputs": [
    {
     "data": {
      "text/plain": [
       "array([0.05      , 0.0475    , 0.045125  , 0.04286875, 0.04072531,\n",
       "       0.03868905, 0.03675459, 0.03491686, 0.03317102, 0.03151247,\n",
       "       0.02993685, 0.02844   , 0.027018  , 0.0256671 , 0.02438375,\n",
       "       0.02316456, 0.02200633, 0.02090602, 0.01986072, 0.01886768,\n",
       "       0.0179243 , 0.01702808, 0.01617668, 0.01536784, 0.01459945,\n",
       "       0.01386948, 0.013176  , 0.0125172 , 0.01189134, 0.01129678,\n",
       "       0.01073194, 0.01019534, 0.00968557, 0.0092013 , 0.00874123,\n",
       "       0.00830417, 0.00788896, 0.00749451, 0.00711979, 0.0067638 ,\n",
       "       0.00642561, 0.00610433, 0.00579911, 0.00550916, 0.0052337 ,\n",
       "       0.00497201, 0.00472341, 0.00448724, 0.00426288, 0.00404974,\n",
       "       0.00384725, 0.00365489, 0.00347214, 0.00329853, 0.00313361,\n",
       "       0.00297693, 0.00282808, 0.00268668, 0.00255234, 0.00242473,\n",
       "       0.00230349, 0.00218832, 0.0020789 , 0.00197495, 0.00187621,\n",
       "       0.0017824 , 0.00169328, 0.00160861, 0.00152818, 0.00145177,\n",
       "       0.00137918, 0.00131023, 0.00124471, 0.00118248, 0.00112335,\n",
       "       0.00106719, 0.00101383, 0.00096314, 0.00091498, 0.00086923,\n",
       "       0.00082577, 0.00078448, 0.00074526, 0.00070799, 0.00067259,\n",
       "       0.00063896, 0.00060702, 0.00057667, 0.00054783, 0.00052044])"
      ]
     },
     "execution_count": 57,
     "metadata": {},
     "output_type": "execute_result"
    }
   ],
   "source": [
    "pmf_geom"
   ]
  },
  {
   "cell_type": "code",
   "execution_count": 58,
   "metadata": {},
   "outputs": [
    {
     "name": "stdout",
     "output_type": "stream",
     "text": [
      "18.912279881937483\n"
     ]
    }
   ],
   "source": [
    "# 평균\n",
    "# 위의 시행을 계산에 사용하기 위해 리스트로 바꿨습니다.\n",
    "real_geom = list(pmf_geom)\n",
    "p = 0.05  # 성공확률\n",
    "q = 1-0.05   # 실패확률\n",
    "\n",
    "m = 0   # 실험의 평균값\n",
    "\n",
    "for i in range(90):   # 공식을 이용해서 평균을 구한다.\n",
    "    m += (i+1)*real_geom[i]\n",
    "    \n",
    "print(m)"
   ]
  },
  {
   "cell_type": "code",
   "execution_count": null,
   "metadata": {},
   "outputs": [],
   "source": [
    "# 실제 기하분포의 평균은 1/p = 1/0.05 = 20이지만 직접 구한 평균은 18.912279881937483으로 약간의 차이가 있었다."
   ]
  },
  {
   "cell_type": "code",
   "execution_count": 60,
   "metadata": {},
   "outputs": [
    {
     "name": "stdout",
     "output_type": "stream",
     "text": [
      "295.3820638651038\n",
      "296.14666726209117\n"
     ]
    }
   ],
   "source": [
    "# 분산\n",
    "# 위에서 구한 평균을 이용해서 분산도 공식에 넣어서 구한다.\n",
    "\n",
    "s = 0 # 실험에서의 분산\n",
    "S = 0 # 실제 평균을 사용한 분산\n",
    "\n",
    "for i in range(90):\n",
    "    s += ((i+1)-m)**2 * real_geom[i]\n",
    "\n",
    "print(s)\n",
    "\n",
    "for i in range(90):\n",
    "    S += ((i+1)-20)**2 * real_geom[i]\n",
    "\n",
    "print(S)\n",
    "\n",
    "\n"
   ]
  },
  {
   "cell_type": "code",
   "execution_count": null,
   "metadata": {},
   "outputs": [],
   "source": [
    "'''\n",
    "실제 기하분포의 분산은 q/(p)^2 = 0.95/ (0.05)^2 = 380 이지만 직접 구한 분산은 295.3820638651038 이었고, 실제 평균을 사용한 분산도\n",
    "296.14666726209117으로, 실제 분산과는 차이가 컸다.\n",
    "'''"
   ]
  }
 ],
 "metadata": {
  "kernelspec": {
   "display_name": "Python 3",
   "language": "python",
   "name": "python3"
  },
  "language_info": {
   "codemirror_mode": {
    "name": "ipython",
    "version": 3
   },
   "file_extension": ".py",
   "mimetype": "text/x-python",
   "name": "python",
   "nbconvert_exporter": "python",
   "pygments_lexer": "ipython3",
   "version": "3.8.5"
  }
 },
 "nbformat": 4,
 "nbformat_minor": 4
}
