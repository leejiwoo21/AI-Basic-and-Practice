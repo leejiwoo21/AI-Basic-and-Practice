{
 "cells": [
  {
   "cell_type": "markdown",
   "metadata": {},
   "source": [
    "# 1. matrix 기초 문제"
   ]
  },
  {
   "cell_type": "markdown",
   "metadata": {},
   "source": [
    "markdown 행렬 표기법\n",
    "\n",
    "$ \\begin{bmatrix}\n",
    "a & b \\\\\n",
    "c & d\n",
    "\\end{bmatrix}$"
   ]
  },
  {
   "cell_type": "markdown",
   "metadata": {},
   "source": [
    "## 1.1. \n",
    "### $ \\begin{bmatrix}\n",
    "            1 & 2 & 3 \\\\\n",
    "            4 & 5 & 6 \n",
    "            \\end{bmatrix}$"
   ]
  },
  {
   "cell_type": "markdown",
   "metadata": {},
   "source": [
    "1. 1,5\n",
    "2.  5\n",
    "3.  $ \\begin{bmatrix}\n",
    "            1 & 4 \\\\\n",
    "            2 & 5 \\\\\n",
    "            3 & 6\n",
    "            \\end{bmatrix}$"
   ]
  },
  {
   "cell_type": "markdown",
   "metadata": {},
   "source": [
    "## 1.2 \n",
    "### $ E_1 = \\begin{bmatrix} 1 & 0 \\\\ 0 & 0 \\end{bmatrix},\n",
    "E_2 = \\begin{bmatrix} 0 & 1 \\\\ 0 & 0 \\end{bmatrix},\n",
    "E_3 = \\begin{bmatrix} 0 & 0 \\\\ 1 & 0 \\end{bmatrix},\n",
    "E_4 = \\begin{bmatrix} 0 & 0 \\\\ 0 & 1 \\end{bmatrix}$"
   ]
  },
  {
   "cell_type": "markdown",
   "metadata": {},
   "source": [
    "1. $ \\begin{bmatrix} 4 & 2 \\\\ 3 & 0\\end{bmatrix} $\n",
    "2. $ \\begin{bmatrix} 4 & 2 \\\\ 0 & 0 \\end{bmatrix} $"
   ]
  },
  {
   "cell_type": "markdown",
   "metadata": {},
   "source": [
    "# 1.3 \n",
    "### $ A = \\begin{bmatrix} 1 & 2 \\\\ 3 & 4 \\end{bmatrix} $"
   ]
  },
  {
   "cell_type": "markdown",
   "metadata": {},
   "source": [
    "1. $ \\begin{bmatrix} -2 & 1 \\\\ 3/2 & -1/2 \\end{bmatrix} $"
   ]
  },
  {
   "cell_type": "markdown",
   "metadata": {},
   "source": [
    "# 1.4 \n",
    "### v $= \\begin{bmatrix} 3 \\\\ 12 \\end{bmatrix} , B= \\{3e_1 ,3e_2\\}$"
   ]
  },
  {
   "cell_type": "markdown",
   "metadata": {},
   "source": [
    "1.$ \\begin{bmatrix} 1 \\\\ 4 \\end{bmatrix} $"
   ]
  },
  {
   "cell_type": "markdown",
   "metadata": {},
   "source": [
    "# 1.5\n",
    "### $ Ae_1 = 4e_1 + 3e_2 + 4e_3 \\\\\n",
    "Ae_2 = 3e_1 + 9e_2 + 0e_3 \\\\\n",
    "Ae_3 = 2e_1 + 4e_2 + 2e_3 \\\\ A \\cdot \\begin{bmatrix} 7 \\\\ 3 \\\\ 1 \\end{bmatrix} $"
   ]
  },
  {
   "cell_type": "markdown",
   "metadata": {},
   "source": [
    "1. $ \\begin{bmatrix} 39 \\\\ 52 \\\\ 30 \\end{bmatrix} $"
   ]
  },
  {
   "cell_type": "markdown",
   "metadata": {},
   "source": [
    "# 2. mnist에서 클래스 분류"
   ]
  },
  {
   "cell_type": "markdown",
   "metadata": {},
   "source": [
    "## 2.1 데이터 불러오는 부분(그냥 실행시킵시다)\n",
    "\n",
    "1. Images: numpy 이미지(1만개)\n",
    "2. labels: 이미지에 대한 정답(1만개)\n",
    "\n",
    "레이블 번호와 숫자그림은 일치  \n",
    "1. 이미지 1 - 레이블 번호 1  \n",
    "2. 이미지 9 - 레이블 번호 9"
   ]
  },
  {
   "cell_type": "code",
   "execution_count": 1,
   "metadata": {},
   "outputs": [
    {
     "name": "stdout",
     "output_type": "stream",
     "text": [
      "Requirement already satisfied: mnist in c:\\programdata\\anaconda3\\lib\\site-packages (0.2.2)\n",
      "Requirement already satisfied: numpy in c:\\programdata\\anaconda3\\lib\\site-packages (from mnist) (1.19.2)\n"
     ]
    }
   ],
   "source": [
    "!pip install mnist"
   ]
  },
  {
   "cell_type": "code",
   "execution_count": 22,
   "metadata": {},
   "outputs": [],
   "source": [
    "import numpy as np\n",
    "from PIL import Image\n",
    "import mnist\n",
    "import scipy.misc\n",
    "## mnist 데이터 서버 상태에 따라 시간이 소요될 수 있으므로 기다릴것\n",
    "## 503 error 시 다시 실행\n",
    "images = mnist.test_images()\n",
    "labels = mnist.test_labels()\n",
    "\n",
    "def metric(predicts, labels):\n",
    "    print(100*(len(labels[predicts==labels])/len(labels)), \"% 입니다\")"
   ]
  },
  {
   "cell_type": "code",
   "execution_count": 237,
   "metadata": {},
   "outputs": [
    {
     "data": {
      "image/png": "[encoded data removed]",
      "text/plain": [
       "<PIL.Image.Image image mode=L size=28x28 at 0x27557C005E0>"
      ]
     },
     "execution_count": 237,
     "metadata": {},
     "output_type": "execute_result"
    }
   ],
   "source": [
    "#이미지와 레이블 출력\n",
    "idx =119\n",
    "Image.fromarray(images[idx])"
   ]
  },
  {
   "cell_type": "code",
   "execution_count": 88,
   "metadata": {},
   "outputs": [
    {
     "name": "stdout",
     "output_type": "stream",
     "text": [
      "정답은 2\n"
     ]
    }
   ],
   "source": [
    "print(\"정답은\",labels[idx])"
   ]
  },
  {
   "cell_type": "markdown",
   "metadata": {},
   "source": [
    "## 2.2 평가방법\n",
    "#### metric(predict, labels) 하면 결과값이 보임"
   ]
  },
  {
   "cell_type": "code",
   "execution_count": 5,
   "metadata": {},
   "outputs": [
    {
     "name": "stdout",
     "output_type": "stream",
     "text": [
      "9.8 % 입니다\n"
     ]
    }
   ],
   "source": [
    "# 평가 예제\n",
    "p = np.zeros(10000)\n",
    "metric(p,labels)"
   ]
  },
  {
   "cell_type": "markdown",
   "metadata": {},
   "source": [
    "##  2.3 여기서부터 작성하면 됩니다.\n",
    "\n",
    "hsplit, vsplit 활용 가능 [[numpy doc 링크](https://numpy.org/doc/stable/reference/generated/numpy.hsplit.html)]"
   ]
  },
  {
   "cell_type": "code",
   "execution_count": 466,
   "metadata": {},
   "outputs": [],
   "source": [
    "#함수 원형 예시\n",
    "def mnist_cls(images):\n",
    "    return predicts"
   ]
  },
  {
   "cell_type": "code",
   "execution_count": 467,
   "metadata": {},
   "outputs": [
    {
     "data": {
      "text/plain": [
       "(10000, 28, 28)"
      ]
     },
     "execution_count": 467,
     "metadata": {},
     "output_type": "execute_result"
    }
   ],
   "source": [
    "images.shape"
   ]
  },
  {
   "cell_type": "code",
   "execution_count": 468,
   "metadata": {},
   "outputs": [
    {
     "name": "stdout",
     "output_type": "stream",
     "text": [
      "(10000, 1, 28, 28)\n",
      "(10000, 784)\n"
     ]
    }
   ],
   "source": [
    "cells = np.array(np.vsplit(images,10000)) # 행을 10000개로 나눈다.\n",
    "print(cells.shape)\n",
    "\n",
    "train = cells[:,:].reshape(-1,28*28) #28*28의 값을 한줄로 이어붙인다.\n",
    "print(train.shape)\n",
    "\n",
    "mine = np.zeros(10000) # 결과로 사용할 array입니다."
   ]
  },
  {
   "cell_type": "code",
   "execution_count": 469,
   "metadata": {},
   "outputs": [],
   "source": [
    "# 사진이 흑백이기 때문에 0과 1로 나타내기 위해서 50보다 작으면 0을 50보다 크면 1 저장하는 함수를 train에 돌렸습니다.\n",
    "def binary_(x):       \n",
    "    for i in range(10000):\n",
    "        for j in range(784):\n",
    "            if(x[i][j] <= 50):\n",
    "                x[i][j] = 0\n",
    "            else:\n",
    "                x[i][j] =1\n",
    "    \n",
    "binary_(train)"
   ]
  },
  {
   "cell_type": "code",
   "execution_count": 470,
   "metadata": {},
   "outputs": [],
   "source": [
    "# 유사도를 검사하는 함수로 input으로 배열 2개를 받고 같은 인덱스에서 값이 같으면 sum을 1 증가시키고 총 sum을 반환합니다(유사도)\n",
    "def similarity(a,b):\n",
    "    sum = 0\n",
    "    for i in range(784):\n",
    "        if(a[i] == b[i]):\n",
    "            sum = sum+1\n",
    "    return sum"
   ]
  },
  {
   "cell_type": "code",
   "execution_count": 471,
   "metadata": {},
   "outputs": [],
   "source": [
    "# 제가 눈으로 images에서 숫자를 보고 분류해둔 기준들 입니다.\n",
    "Zero = train[3]\n",
    "Zero2 = train[101]\n",
    "One = train[2]\n",
    "One2 = train[107]\n",
    "Two = train[1]\n",
    "Two2 = train[106]\n",
    "Three = train[30]\n",
    "Three2 = train[112]\n",
    "Four = train[4]\n",
    "Four2 = train[103]\n",
    "Five = train[15]\n",
    "Five2 = train[102]\n",
    "Six = train[11]\n",
    "Six2 = train[100]\n",
    "Seven = train[0]\n",
    "Seven2 = train[114]\n",
    "Eight = train[8125]\n",
    "Eight2 = train[110]\n",
    "Nine = train[12]\n",
    "Nine2 = train[104]"
   ]
  },
  {
   "cell_type": "code",
   "execution_count": 472,
   "metadata": {},
   "outputs": [],
   "source": [
    "Zero3 = train[525]\n",
    "Zero4 = train[561]\n",
    "One3 = train[523]\n",
    "One4 = train[506]\n",
    "Two3 = train[503]\n",
    "Two4 = train[513]\n",
    "Three3 = train[500]\n",
    "Three4 = train[505]\n",
    "Four3 = train[511]\n",
    "Four4 = train[535]\n",
    "Five3 = train[502]\n",
    "Five4 = train[518]\n",
    "Six3 = train[508]\n",
    "Six4 = train[514]\n",
    "Seven3 = train[510]\n",
    "Seven4 = train[522]\n",
    "Eight3 = train[520]\n",
    "Eight4 = train[538]\n",
    "Nine3 = train[521]\n",
    "Nine4 = train[530]"
   ]
  },
  {
   "cell_type": "code",
   "execution_count": 473,
   "metadata": {},
   "outputs": [],
   "source": [
    "#모든 숫자 사진에 대해 미리 모아둔 기준과 비교해서 유사도를 검사하고 유사도가 가장 높은 숫자(인덱스)를 받아서 mine에 저장합니다.\n",
    "for i in range(10000):\n",
    "    Similar = [0 for j in range(10)]\n",
    "    Similar2 = [0 for j in range(10)]\n",
    "    Similar3 = [0 for j in range(10)]\n",
    "    Similar4 = [0 for j in range(10)]\n",
    "    \n",
    "    \n",
    "    Similar[0] = similarity(train[i],Zero)\n",
    "    Similar[1] = similarity(train[i],One)\n",
    "    Similar[2] = similarity(train[i],Two)\n",
    "    Similar[3] = similarity(train[i],Three)\n",
    "    Similar[4] = similarity(train[i],Four)\n",
    "    Similar[5] = similarity(train[i],Five)\n",
    "    Similar[6] = similarity(train[i],Six)\n",
    "    Similar[7] = similarity(train[i],Seven)\n",
    "    Similar[8] = similarity(train[i],Eight)\n",
    "    Similar[9] = similarity(train[i],Nine)\n",
    "    \n",
    "    Similar2[0] = similarity(train[i],Zero2)\n",
    "    Similar2[1] = similarity(train[i],One2)\n",
    "    Similar2[2] = similarity(train[i],Two2)\n",
    "    Similar2[3] = similarity(train[i],Three2)\n",
    "    Similar2[4] = similarity(train[i],Four2)\n",
    "    Similar2[5] = similarity(train[i],Five2)\n",
    "    Similar2[6] = similarity(train[i],Six2)\n",
    "    Similar2[7] = similarity(train[i],Seven2)\n",
    "    Similar2[8] = similarity(train[i],Eight2)\n",
    "    Similar2[9] = similarity(train[i],Nine2)\n",
    "    \n",
    "    Similar3[0] = similarity(train[i],Zero3)\n",
    "    Similar3[1] = similarity(train[i],One3)\n",
    "    Similar3[2] = similarity(train[i],Two3)\n",
    "    Similar3[3] = similarity(train[i],Three3)\n",
    "    Similar3[4] = similarity(train[i],Four3)\n",
    "    Similar3[5] = similarity(train[i],Five3)\n",
    "    Similar3[6] = similarity(train[i],Six3)\n",
    "    Similar3[7] = similarity(train[i],Seven3)\n",
    "    Similar3[8] = similarity(train[i],Eight3)\n",
    "    Similar3[9] = similarity(train[i],Nine3)\n",
    "    \n",
    "    Similar4[0] = similarity(train[i],Zero4)\n",
    "    Similar4[1] = similarity(train[i],One4)\n",
    "    Similar4[2] = similarity(train[i],Two4)\n",
    "    Similar4[3] = similarity(train[i],Three4)\n",
    "    Similar4[4] = similarity(train[i],Four4)\n",
    "    Similar4[5] = similarity(train[i],Five4)\n",
    "    Similar4[6] = similarity(train[i],Six4)\n",
    "    Similar4[7] = similarity(train[i],Seven4)\n",
    "    Similar4[8] = similarity(train[i],Eight4)\n",
    "    Similar4[9] = similarity(train[i],Nine4)\n",
    "    \n",
    "    sum = Similar+Similar2+Similar3+Similar4\n",
    "    max_index = sum.index(max(sum))\n",
    "    \n",
    "    if(max_index//10 == 0):\n",
    "        mine[i] = Similar.index(max(Similar))\n",
    "    elif (max_index//10 == 1):\n",
    "        mine[i] = Similar2.index(max(Similar2))\n",
    "    elif (max_index//10 == 2):\n",
    "        mine[i] = Similar3.index(max(Similar3))\n",
    "    else:\n",
    "        mine[i] = Similar4.index(max(Similar4))\n",
    "\n",
    "    "
   ]
  },
  {
   "cell_type": "code",
   "execution_count": 474,
   "metadata": {},
   "outputs": [
    {
     "name": "stdout",
     "output_type": "stream",
     "text": [
      "60.24 % 입니다\n"
     ]
    }
   ],
   "source": [
    "#결과\n",
    "metric(mine,labels)"
   ]
  },
  {
   "cell_type": "markdown",
   "metadata": {},
   "source": [
    "# 3. 고찰"
   ]
  },
  {
   "cell_type": "code",
   "execution_count": 475,
   "metadata": {},
   "outputs": [
    {
     "data": {
      "text/plain": [
       "'\\n2017120097 이지우\\n\\n먼저 처음 사진이 10000개의 숫자가 한줄로 붙어있으니까 이걸 vsplit으로 때어내고 각해상도가 28*28인 10000개의 원소를 만들었습니다.\\n각 원소들은 28*28(2차원)으로 이루어져 있는데 이것을 나중에 비교하기 쉽게 1차원으로 만들었습니다. 이 리스트를 0과 1로 나타내고\\n눈으로 확인한 사진을 비교기준으로 만들어서 저장했습니다.\\n처음에 1개의 기준만 가지고 실행하면 47% 정도 나왔고 2개는 51%, 4개는 60%가 나왔습니다.\\n기준을 늘리면 유사도 %가 높아지긴 하지만, 점점 효과도 줄어들고 손수 하는것도 한계가 있기 때문에 이 과정을 함수로 만들어서\\n표본을 여러개 받고 가장 유사도가 높은 숫자를 선택할 수 있다면 정답에 근접할 것 같습니다.\\n\\n'"
      ]
     },
     "execution_count": 475,
     "metadata": {},
     "output_type": "execute_result"
    }
   ],
   "source": [
    "'''\n",
    "2017120097 이지우\n",
    "\n",
    "먼저 처음 사진이 10000개의 숫자가 한줄로 붙어있으니까 이걸 vsplit으로 때어내고 각해상도가 28*28인 10000개의 원소를 만들었습니다.\n",
    "각 원소들은 28*28(2차원)으로 이루어져 있는데 이것을 나중에 비교하기 쉽게 1차원으로 만들었습니다. 이 리스트를 0과 1로 나타내고\n",
    "눈으로 확인한 사진을 비교기준으로 만들어서 저장했습니다.\n",
    "처음에 1개의 기준만 가지고 실행하면 47% 정도 나왔고 2개는 51%, 4개는 60%가 나왔습니다.\n",
    "기준을 늘리면 유사도 %가 높아지긴 하지만, 점점 효과도 줄어들고 손수 하는것도 한계가 있기 때문에 이 과정을 함수로 만들어서\n",
    "표본을 여러개 받고 가장 유사도가 높은 숫자를 선택할 수 있다면 정답에 근접할 것 같습니다.\n",
    "\n",
    "'''"
   ]
  }
 ],
 "metadata": {
  "kernelspec": {
   "display_name": "Python 3",
   "language": "python",
   "name": "python3"
  },
  "language_info": {
   "codemirror_mode": {
    "name": "ipython",
    "version": 3
   },
   "file_extension": ".py",
   "mimetype": "text/x-python",
   "name": "python",
   "nbconvert_exporter": "python",
   "pygments_lexer": "ipython3",
   "version": "3.8.5"
  }
 },
 "nbformat": 4,
 "nbformat_minor": 4
}
